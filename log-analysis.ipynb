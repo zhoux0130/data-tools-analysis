{
 "cells": [
  {
   "cell_type": "code",
   "execution_count": 94,
   "metadata": {},
   "outputs": [],
   "source": [
    "import os\n",
    "\n",
    "def file_name_listdir(file_dir):\n",
    "    File_Name=[]\n",
    "    for files in os.listdir(file_dir):\n",
    "        if os.path.splitext(files)[1] == '.csv':\n",
    "            File_Name.append(files)\n",
    "    return File_Name\n",
    "\n",
    "a = file_name_listdir(\"./\")"
   ]
  },
  {
   "cell_type": "code",
   "execution_count": 95,
   "metadata": {},
   "outputs": [
    {
     "name": "stdout",
     "output_type": "stream",
     "text": [
      "['1027.csv', '1028.csv', '1029.csv', '1030.csv', '1031.csv', '1101.csv', '1102.csv', '1103.csv', '1104.csv', '1105.csv']\n"
     ]
    }
   ],
   "source": [
    "a.sort()\n",
    "print(a)"
   ]
  },
  {
   "cell_type": "code",
   "execution_count": 138,
   "metadata": {},
   "outputs": [],
   "source": [
    "def getRatio(first, comp):\n",
    "    insert = pd.merge(first, comp, on='user_id',how='inner')\n",
    "    #print(len(insert['user_id']))\n",
    "    return len(insert['user_id'])/len(first['user_id'])"
   ]
  },
  {
   "cell_type": "code",
   "execution_count": 139,
   "metadata": {},
   "outputs": [],
   "source": [
    "import pandas as pd\n",
    "import numpy as np\n",
    "\n",
    "def getLeaveRatio(start_time, level):\n",
    "    first = pd.read_csv(a[start_time])\n",
    "    if level:\n",
    "        first = first[first['user_level']==level]\n",
    "        print('first day :', len(first['user_id']))\n",
    "    for i in range(start_time+1, len(a)):\n",
    "        t_plus = pd.read_csv(a[i])\n",
    "        #print(t_plus)\n",
    "        print(str(a[i][:-4]), getRatio(first, t_plus))"
   ]
  },
  {
   "cell_type": "code",
   "execution_count": 140,
   "metadata": {},
   "outputs": [
    {
     "name": "stdout",
     "output_type": "stream",
     "text": [
      "first day : 19\n",
      "1101 0.42105263157894735\n",
      "1102 0.3157894736842105\n",
      "1103 0.42105263157894735\n",
      "1104 0.5789473684210527\n",
      "1105 0.42105263157894735\n"
     ]
    }
   ],
   "source": [
    "getLeaveRatio(4,'S级达人')"
   ]
  },
  {
   "cell_type": "code",
   "execution_count": 154,
   "metadata": {},
   "outputs": [
    {
     "name": "stdout",
     "output_type": "stream",
     "text": [
      "first day : 51\n",
      "1029 0.4117647058823529\n",
      "1030 0.49019607843137253\n",
      "1031 0.27450980392156865\n",
      "1101 0.5098039215686274\n",
      "1102 0.5294117647058824\n",
      "1103 0.5294117647058824\n",
      "1104 0.47058823529411764\n",
      "1105 0.5098039215686274\n"
     ]
    }
   ],
   "source": [
    "getLeaveRatio(1,'A级达人')"
   ]
  },
  {
   "cell_type": "code",
   "execution_count": 155,
   "metadata": {},
   "outputs": [
    {
     "name": "stdout",
     "output_type": "stream",
     "text": [
      "first day : 28\n",
      "1029 0.39285714285714285\n",
      "1030 0.5714285714285714\n",
      "1031 0.39285714285714285\n",
      "1101 0.39285714285714285\n",
      "1102 0.39285714285714285\n",
      "1103 0.25\n",
      "1104 0.35714285714285715\n",
      "1105 0.32142857142857145\n"
     ]
    }
   ],
   "source": [
    "getLeaveRatio(1,'B级达人')"
   ]
  },
  {
   "cell_type": "code",
   "execution_count": null,
   "metadata": {},
   "outputs": [],
   "source": []
  }
 ],
 "metadata": {
  "kernelspec": {
   "display_name": "Python 3",
   "language": "python",
   "name": "python3"
  },
  "language_info": {
   "codemirror_mode": {
    "name": "ipython",
    "version": 3
   },
   "file_extension": ".py",
   "mimetype": "text/x-python",
   "name": "python",
   "nbconvert_exporter": "python",
   "pygments_lexer": "ipython3",
   "version": "3.8.3"
  }
 },
 "nbformat": 4,
 "nbformat_minor": 4
}
